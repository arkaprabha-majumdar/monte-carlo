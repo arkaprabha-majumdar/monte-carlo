{
  "nbformat": 4,
  "nbformat_minor": 0,
  "metadata": {
    "colab": {
      "name": "monteCarlo_aggressive.ipynb",
      "provenance": [],
      "collapsed_sections": []
    },
    "kernelspec": {
      "name": "python3",
      "display_name": "Python 3"
    }
  },
  "cells": [
    {
      "cell_type": "code",
      "metadata": {
        "id": "8lmKSaK27waP"
      },
      "source": [
        "import numpy as np\n",
        "import pandas as pd"
      ],
      "execution_count": 1,
      "outputs": []
    },
    {
      "cell_type": "code",
      "metadata": {
        "id": "HckFSjv58Y6z"
      },
      "source": [
        "def casino_roll():\n",
        "    roll = np.random.randint(1,100)\n",
        "\n",
        "    #if roll <= 50 or roll == 100:\n",
        "        #print('rolled %d. you lose. House wins! Play again?!'%roll)\n",
        "    if 50 < roll < 100:\n",
        "        #print('you win! On a roll !')\n",
        "        return True\n",
        "    else:\n",
        "        return False"
      ],
      "execution_count": 2,
      "outputs": []
    },
    {
      "cell_type": "code",
      "metadata": {
        "id": "rD4hFYQjMmLF"
      },
      "source": [
        "#player doubles bet each time he wins\n",
        "def aggressive_bet(funds,initial_bet,bet_count):\n",
        "    bet = 0\n",
        "    money_bet = initial_bet\n",
        "    while bet < bet_count :\n",
        "      if casino_roll():\n",
        "        funds += money_bet\n",
        "        money_bet = 2*money_bet\n",
        "      else:\n",
        "        funds -= money_bet\n",
        "      #if funds < 0 :\n",
        "        #print(\"In trouble. Try to recover by playing few more\")\n",
        "      bet +=1\n",
        "      #print('Funds : %d'%funds)\n",
        "    return(funds)"
      ],
      "execution_count": 3,
      "outputs": []
    },
    {
      "cell_type": "code",
      "metadata": {
        "id": "N7Q2lz-dCeez",
        "outputId": "09abad80-3a9e-403a-dfee-c5cac73e08e3",
        "colab": {
          "base_uri": "https://localhost:8080/",
          "height": 1000
        }
      },
      "source": [
        "x=0\n",
        "hundred_players = []\n",
        "while x<100:\n",
        "  print(x)\n",
        "  hundred_players.append(aggressive_bet(10000,100,100))\n",
        "  x+=1"
      ],
      "execution_count": 11,
      "outputs": [
        {
          "output_type": "stream",
          "text": [
            "0\n",
            "1\n",
            "2\n",
            "3\n",
            "4\n",
            "5\n",
            "6\n",
            "7\n",
            "8\n",
            "9\n",
            "10\n",
            "11\n",
            "12\n",
            "13\n",
            "14\n",
            "15\n",
            "16\n",
            "17\n",
            "18\n",
            "19\n",
            "20\n",
            "21\n",
            "22\n",
            "23\n",
            "24\n",
            "25\n",
            "26\n",
            "27\n",
            "28\n",
            "29\n",
            "30\n",
            "31\n",
            "32\n",
            "33\n",
            "34\n",
            "35\n",
            "36\n",
            "37\n",
            "38\n",
            "39\n",
            "40\n",
            "41\n",
            "42\n",
            "43\n",
            "44\n",
            "45\n",
            "46\n",
            "47\n",
            "48\n",
            "49\n",
            "50\n",
            "51\n",
            "52\n",
            "53\n",
            "54\n",
            "55\n",
            "56\n",
            "57\n",
            "58\n",
            "59\n",
            "60\n",
            "61\n",
            "62\n",
            "63\n",
            "64\n",
            "65\n",
            "66\n",
            "67\n",
            "68\n",
            "69\n",
            "70\n",
            "71\n",
            "72\n",
            "73\n",
            "74\n",
            "75\n",
            "76\n",
            "77\n",
            "78\n",
            "79\n",
            "80\n",
            "81\n",
            "82\n",
            "83\n",
            "84\n",
            "85\n",
            "86\n",
            "87\n",
            "88\n",
            "89\n",
            "90\n",
            "91\n",
            "92\n",
            "93\n",
            "94\n",
            "95\n",
            "96\n",
            "97\n",
            "98\n",
            "99\n"
          ],
          "name": "stdout"
        }
      ]
    },
    {
      "cell_type": "code",
      "metadata": {
        "id": "yOgKNiujCqgt",
        "outputId": "b25a3106-465c-4e16-da5a-49e5f78e6496",
        "colab": {
          "base_uri": "https://localhost:8080/",
          "height": 50
        }
      },
      "source": [
        "print('Total people who actually won : %d'%len([x for x in hundred_players if x > 0]))\n",
        "\n",
        "print('Total people who actually lost : %d'%len([x for x in hundred_players if x <= 0]))\n"
      ],
      "execution_count": 12,
      "outputs": [
        {
          "output_type": "stream",
          "text": [
            "Total people who actually won : 28\n",
            "Total people who actually lost : 72\n"
          ],
          "name": "stdout"
        }
      ]
    },
    {
      "cell_type": "code",
      "metadata": {
        "id": "W_tgOeGdFd3w",
        "outputId": "1028f072-28c3-491e-cda5-3fbb9aa5c073",
        "colab": {
          "base_uri": "https://localhost:8080/",
          "height": 293
        }
      },
      "source": [
        "import matplotlib.pyplot as plt\n",
        "\n",
        "hundred_players = np.array(hundred_players)\n",
        "hundred_players_st = hundred_players - min(hundred_players) / (max(hundred_players) - min(hundred_players))\n",
        "\n",
        "plt.plot(hundred_players)"
      ],
      "execution_count": 13,
      "outputs": [
        {
          "output_type": "execute_result",
          "data": {
            "text/plain": [
              "[<matplotlib.lines.Line2D at 0x7f6e60648e48>]"
            ]
          },
          "metadata": {
            "tags": []
          },
          "execution_count": 13
        },
        {
          "output_type": "display_data",
          "data": {
            "image/png": "[encoded data removed]",
            "text/plain": [
              "<Figure size 432x288 with 1 Axes>"
            ]
          },
          "metadata": {
            "tags": [],
            "needs_background": "light"
          }
        }
      ]
    },
    {
      "cell_type": "code",
      "metadata": {
        "id": "BRWcSq0tFxbV",
        "outputId": "96241043-1eec-48d9-bfc6-5457f8912c7f",
        "colab": {
          "base_uri": "https://localhost:8080/",
          "height": 34
        }
      },
      "source": [
        "min([x for x in hundred_players if x >0])"
      ],
      "execution_count": 17,
      "outputs": [
        {
          "output_type": "execute_result",
          "data": {
            "text/plain": [
              "33051123728100"
            ]
          },
          "metadata": {
            "tags": []
          },
          "execution_count": 17
        }
      ]
    },
    {
      "cell_type": "code",
      "metadata": {
        "id": "hha8qO6TF0W3"
      },
      "source": [
        ""
      ],
      "execution_count": null,
      "outputs": []
    }
  ]
}